{
 "cells": [
  {
   "cell_type": "markdown",
   "metadata": {},
   "source": [
    "# DATA PREPROCESSING START"
   ]
  },
  {
   "cell_type": "code",
   "execution_count": 1,
   "metadata": {},
   "outputs": [],
   "source": [
    "import os\n",
    "from PIL import Image , ImageOps ,ImageEnhance,ImageFilter\n",
    "from PIL.ImageFilter import (SHARPEN,EDGE_ENHANCE,MedianFilter)"
   ]
  },
  {
   "cell_type": "code",
   "execution_count": 2,
   "metadata": {},
   "outputs": [],
   "source": [
    "datadir1=\"C:/Training/glioma_tumor/\"\n",
    "datadir_t1=\"C:/Testing/glioma_tumor/\"\n",
    "\n",
    "datadir2=\"C:/Training/meningioma_tumor/\"\n",
    "datadir_t2=\"C:/Testing/meningioma_tumor/\"\n",
    "\n",
    "datadir3=\"C:/Training/no_tumor/\"\n",
    "datadir_t3=\"C:/Testing/no_tumor/\"\n",
    "\n",
    "datadir4=\"C:/Training/pituitary_tumor/\"\n",
    "datadir_t4=\"C:/Testing/pituitary_tumor/\""
   ]
  },
  {
   "cell_type": "markdown",
   "metadata": {},
   "source": [
    "# glioma\n"
   ]
  },
  {
   "cell_type": "code",
   "execution_count": 3,
   "metadata": {},
   "outputs": [],
   "source": [
    "gliomatr = 0\n",
    "for root,dirs,files in os.walk(datadir1):\n",
    "    for filename in files:\n",
    "        img=Image.open(root+filename)\n",
    "        img=img.crop((58,49,474,420))\n",
    "        img=img.resize((224,224),Image.BICUBIC)\n",
    "        img =ImageEnhance.Sharpness(img).enhance(9.5)\n",
    "        img = ImageOps.grayscale(img)\n",
    "        img.save(r\"C:\\Brain tumor\\Train\\Glioma\\gg \"+str(gliomatr)+\".jpg\")\n",
    "        gliomatr+=1\n"
   ]
  },
  {
   "cell_type": "code",
   "execution_count": 4,
   "metadata": {},
   "outputs": [],
   "source": [
    "gliomats=0\n",
    "for root,dirs,files in os.walk(datadir_t1):\n",
    "    for filename in files:\n",
    "        img=Image.open(root+filename)\n",
    "        img=img.crop((58,49,474,420))\n",
    "        img=img.resize((224,224),Image.BICUBIC)\n",
    "        img =ImageEnhance.Sharpness(img).enhance(9.5)\n",
    "        img = ImageOps.grayscale(img)\n",
    "        img.save(r\"C:\\Brain tumor\\Test\\Glioma\\gg \"+str(gliomats)+\".jpg\")\n",
    "        gliomats+=1"
   ]
  },
  {
   "cell_type": "markdown",
   "metadata": {},
   "source": [
    "# Meningioma"
   ]
  },
  {
   "cell_type": "code",
   "execution_count": 5,
   "metadata": {},
   "outputs": [],
   "source": [
    "mgtr=0\n",
    "for root,dirs,files in os.walk(datadir2):\n",
    "    for filename in files:\n",
    "        img=Image.open(root+filename)\n",
    "        img=img.crop((58,49,474,420))\n",
    "        img=img.resize((224,224),Image.BICUBIC)\n",
    "        img =ImageEnhance.Sharpness(img).enhance(9.5)\n",
    "        img = ImageOps.grayscale(img)\n",
    "        img.save(r\"C:\\Brain tumor\\Train\\Meningioma\\mg \"+str(mgtr)+\".jpg\")\n",
    "        mgtr+=1\n",
    "        "
   ]
  },
  {
   "cell_type": "code",
   "execution_count": 6,
   "metadata": {},
   "outputs": [],
   "source": [
    "mgts=0\n",
    "for root,dirs,files in os.walk(datadir_t2):\n",
    "    for filename in files:\n",
    "        img=Image.open(root+filename)\n",
    "        img=img.crop((58,49,474,420))\n",
    "        img=img.resize((224,224),Image.BICUBIC)\n",
    "        img =ImageEnhance.Sharpness(img).enhance(9.5)\n",
    "        img = ImageOps.grayscale(img)\n",
    "        img.save(r\"C:\\Brain tumor\\Test\\Meningioma\\mg \"+str(mgts)+\".jpg\")\n",
    "        mgts+=1"
   ]
  },
  {
   "cell_type": "markdown",
   "metadata": {},
   "source": [
    "# No tumor"
   ]
  },
  {
   "cell_type": "code",
   "execution_count": 7,
   "metadata": {},
   "outputs": [],
   "source": [
    "notr=0\n",
    "for root,dirs,files in os.walk(datadir3):\n",
    "    for filename in files:\n",
    "        img=Image.open(root+filename)\n",
    "#         img=img.crop((58,49,474,420))\n",
    "        img=img.resize((224,224),Image.BICUBIC)\n",
    "        img =ImageEnhance.Sharpness(img).enhance(9.5)\n",
    "        img = ImageOps.grayscale(img)\n",
    "        img.save(r\"C:\\Brain tumor\\Train\\No tumor\\no_tumor \"+str(notr)+\".jpg\")\n",
    "        notr+=1"
   ]
  },
  {
   "cell_type": "code",
   "execution_count": 8,
   "metadata": {},
   "outputs": [],
   "source": [
    "nots=0\n",
    "for root,dirs,files in os.walk(datadir_t3):\n",
    "    for filename in files:\n",
    "        img=Image.open(root+filename)\n",
    "#         img=img.crop((58,49,474,420))\n",
    "        img=img.resize((224,224),Image.BICUBIC)\n",
    "        img =ImageEnhance.Sharpness(img).enhance(9.5)\n",
    "        img = ImageOps.grayscale(img)\n",
    "        img.save(r\"C:\\Brain tumor\\Test\\No tumor\\no_tumor \"+str(nots)+\".jpg\")\n",
    "        nots+=1"
   ]
  },
  {
   "cell_type": "markdown",
   "metadata": {},
   "source": [
    "# Pituitary "
   ]
  },
  {
   "cell_type": "code",
   "execution_count": 9,
   "metadata": {},
   "outputs": [],
   "source": [
    "pttr=0\n",
    "for root,dirs,files in os.walk(datadir4):\n",
    "    for filename in files:\n",
    "        img=Image.open(root+filename)\n",
    "        img=img.crop((58,49,474,420))\n",
    "        img=img.resize((224,224),Image.BICUBIC)\n",
    "        img =ImageEnhance.Sharpness(img).enhance(9.5)\n",
    "        img = ImageOps.grayscale(img)\n",
    "        img.save(r\"C:\\Brain tumor\\Train\\Pituitary\\pt \"+str(pttr)+\".jpg\")\n",
    "        pttr+=1\n"
   ]
  },
  {
   "cell_type": "code",
   "execution_count": 10,
   "metadata": {},
   "outputs": [],
   "source": [
    "ptts=0\n",
    "for root,dirs,files in os.walk(datadir_t4):\n",
    "    for filename in files:\n",
    "        img=Image.open(root+filename)\n",
    "        img=img.crop((58,49,474,420))\n",
    "        img=img.resize((224,224),Image.BICUBIC)\n",
    "        img =ImageEnhance.Sharpness(img).enhance(9.5)\n",
    "        img = ImageOps.grayscale(img)\n",
    "        img.save(r\"C:\\Brain tumor\\Test\\Pituitary\\pt \"+str(ptts)+\".jpg\")\n",
    "        ptts+=1"
   ]
  },
  {
   "cell_type": "markdown",
   "metadata": {},
   "source": [
    "# Done"
   ]
  }
 ],
 "metadata": {
  "kernelspec": {
   "display_name": "Python 3",
   "language": "python",
   "name": "python3"
  },
  "language_info": {
   "codemirror_mode": {
    "name": "ipython",
    "version": 3
   },
   "file_extension": ".py",
   "mimetype": "text/x-python",
   "name": "python",
   "nbconvert_exporter": "python",
   "pygments_lexer": "ipython3",
   "version": "3.8.5"
  }
 },
 "nbformat": 4,
 "nbformat_minor": 5
}
